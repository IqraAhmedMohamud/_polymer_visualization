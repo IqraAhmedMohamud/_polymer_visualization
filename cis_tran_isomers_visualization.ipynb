{
 "cells": [
  {
   "cell_type": "code",
   "execution_count": 1,
   "id": "f54b6375-c547-4098-8e4e-09699585d6d1",
   "metadata": {},
   "outputs": [],
   "source": [
    "from scipy.optimize import minimize\n",
    "from scipy.optimize import curve_fit\n",
    "import numpy as np\n",
    "import matplotlib.pyplot as plt\n",
    "import pandas as pd\n",
    "import random\n",
    "#all necessary packages for visualization"
   ]
  },
  {
   "cell_type": "code",
   "execution_count": 2,
   "id": "6a09d05f-f990-4f4b-8793-c83d1a0990a2",
   "metadata": {},
   "outputs": [
    {
     "data": {
      "text/html": [
       "<div>\n",
       "<style scoped>\n",
       "    .dataframe tbody tr th:only-of-type {\n",
       "        vertical-align: middle;\n",
       "    }\n",
       "\n",
       "    .dataframe tbody tr th {\n",
       "        vertical-align: top;\n",
       "    }\n",
       "\n",
       "    .dataframe thead th {\n",
       "        text-align: right;\n",
       "    }\n",
       "</style>\n",
       "<table border=\"1\" class=\"dataframe\">\n",
       "  <thead>\n",
       "    <tr style=\"text-align: right;\">\n",
       "      <th></th>\n",
       "      <th>Wavenumber (cm-1)</th>\n",
       "      <th>Raman intensity of isomer 1</th>\n",
       "      <th>Raman intensity of isomer 2</th>\n",
       "    </tr>\n",
       "  </thead>\n",
       "  <tbody>\n",
       "    <tr>\n",
       "      <th>0</th>\n",
       "      <td>1003.15921</td>\n",
       "      <td>15.589396</td>\n",
       "      <td>15.762844</td>\n",
       "    </tr>\n",
       "    <tr>\n",
       "      <th>1</th>\n",
       "      <td>1007.36974</td>\n",
       "      <td>17.805745</td>\n",
       "      <td>19.172401</td>\n",
       "    </tr>\n",
       "    <tr>\n",
       "      <th>2</th>\n",
       "      <td>1011.58027</td>\n",
       "      <td>21.483374</td>\n",
       "      <td>24.541119</td>\n",
       "    </tr>\n",
       "    <tr>\n",
       "      <th>3</th>\n",
       "      <td>1015.79080</td>\n",
       "      <td>26.906392</td>\n",
       "      <td>34.374638</td>\n",
       "    </tr>\n",
       "    <tr>\n",
       "      <th>4</th>\n",
       "      <td>1020.00133</td>\n",
       "      <td>38.386091</td>\n",
       "      <td>52.375713</td>\n",
       "    </tr>\n",
       "    <tr>\n",
       "      <th>...</th>\n",
       "      <td>...</td>\n",
       "      <td>...</td>\n",
       "      <td>...</td>\n",
       "    </tr>\n",
       "    <tr>\n",
       "      <th>233</th>\n",
       "      <td>1984.21270</td>\n",
       "      <td>1.179667</td>\n",
       "      <td>0.816601</td>\n",
       "    </tr>\n",
       "    <tr>\n",
       "      <th>234</th>\n",
       "      <td>1988.42323</td>\n",
       "      <td>1.112883</td>\n",
       "      <td>0.770507</td>\n",
       "    </tr>\n",
       "    <tr>\n",
       "      <th>235</th>\n",
       "      <td>1992.63376</td>\n",
       "      <td>1.051612</td>\n",
       "      <td>0.728207</td>\n",
       "    </tr>\n",
       "    <tr>\n",
       "      <th>236</th>\n",
       "      <td>1996.84429</td>\n",
       "      <td>0.973362</td>\n",
       "      <td>0.686246</td>\n",
       "    </tr>\n",
       "    <tr>\n",
       "      <th>237</th>\n",
       "      <td>2001.05482</td>\n",
       "      <td>0.878032</td>\n",
       "      <td>0.574125</td>\n",
       "    </tr>\n",
       "  </tbody>\n",
       "</table>\n",
       "<p>238 rows × 3 columns</p>\n",
       "</div>"
      ],
      "text/plain": [
       "     Wavenumber (cm-1)  Raman intensity of isomer 1  \\\n",
       "0           1003.15921                    15.589396   \n",
       "1           1007.36974                    17.805745   \n",
       "2           1011.58027                    21.483374   \n",
       "3           1015.79080                    26.906392   \n",
       "4           1020.00133                    38.386091   \n",
       "..                 ...                          ...   \n",
       "233         1984.21270                     1.179667   \n",
       "234         1988.42323                     1.112883   \n",
       "235         1992.63376                     1.051612   \n",
       "236         1996.84429                     0.973362   \n",
       "237         2001.05482                     0.878032   \n",
       "\n",
       "     Raman intensity of isomer 2  \n",
       "0                      15.762844  \n",
       "1                      19.172401  \n",
       "2                      24.541119  \n",
       "3                      34.374638  \n",
       "4                      52.375713  \n",
       "..                           ...  \n",
       "233                     0.816601  \n",
       "234                     0.770507  \n",
       "235                     0.728207  \n",
       "236                     0.686246  \n",
       "237                     0.574125  \n",
       "\n",
       "[238 rows x 3 columns]"
      ]
     },
     "execution_count": 2,
     "metadata": {},
     "output_type": "execute_result"
    }
   ],
   "source": [
    "#first I need to import the raman spectra, by first converting the excel file into a csv file\n",
    "#now I will import it\n",
    "df = pd.read_csv('Raman_spectra.csv')#reading the file that I downloaded from canvas page (Raman_spectra.csv)\n",
    "df# this will print out the data, so I can see it clearly \n",
    "\n"
   ]
  },
  {
   "cell_type": "code",
   "execution_count": 3,
   "id": "5dd03687-6a1a-4b40-8fad-038571b0ab6f",
   "metadata": {},
   "outputs": [
    {
     "name": "stdout",
     "output_type": "stream",
     "text": [
      "<class 'pandas.core.frame.DataFrame'>\n",
      "RangeIndex: 238 entries, 0 to 237\n",
      "Data columns (total 3 columns):\n",
      " #   Column                       Non-Null Count  Dtype  \n",
      "---  ------                       --------------  -----  \n",
      " 0   Wavenumber (cm-1)            238 non-null    float64\n",
      " 1   Raman intensity of isomer 1  238 non-null    float64\n",
      " 2   Raman intensity of isomer 2  238 non-null    float64\n",
      "dtypes: float64(3)\n",
      "memory usage: 5.7 KB\n"
     ]
    }
   ],
   "source": [
    "#need information on the dataset, so I will be checking if there is any null data or gaps:\n",
    "df.info()\n"
   ]
  },
  {
   "cell_type": "code",
   "execution_count": 4,
   "id": "0f37eb4b-6f64-487c-9083-ab12721a1419",
   "metadata": {},
   "outputs": [
    {
     "name": "stdout",
     "output_type": "stream",
     "text": [
      "Number of isomer 1 in repeated unit: 30\n",
      "Number of isomer 2 in repeated unit: 20\n"
     ]
    }
   ],
   "source": [
    "#3a) ) Visualize the distribution of isomer 1 (trans) and isomer 2 (cis) if the polymer chain contains:\n",
    "#(i) 50 repeat units.\n",
    "\n",
    "isomer_one, isomer_two, isomer_picked_for_repeated_unit = 0, 0, 0\n",
    "\n",
    "isomer_picked_for_repeated_unit = 0 #this is the number of repeated units from the bbl isomer\n",
    "while isomer_picked_for_repeated_unit < 50:#for 50 repeated units which will in a while loop to go on for 50 repetetions \n",
    "    isomer_randomly_picked = random.randrange( 2 )#there are only 2 isomers (isomer_one and isomer_two)\n",
    "    if isomer_randomly_picked == 0:\n",
    "        isomer_one += 1\n",
    "    else:#else statement to pick the other isomer, 2:\n",
    "        isomer_two += 1\n",
    "    isomer_picked_for_repeated_unit += 1\n",
    "\n",
    "\n",
    "\n",
    "    \n",
    "print(\"Number of isomer 1 in repeated unit:\",isomer_one)#this is how many isomer one are in the repeated unit (polymer)\n",
    "print(\"Number of isomer 2 in repeated unit:\",isomer_two)#this is how many isomer two are in the repeated unit(polymer)"
   ]
  },
  {
   "cell_type": "code",
   "execution_count": 5,
   "id": "1c5f073b-494c-45a1-b18a-30c26e882951",
   "metadata": {},
   "outputs": [
    {
     "name": "stdout",
     "output_type": "stream",
     "text": [
      "Number of isomer 1 in repeated unit: 102\n",
      "Number of isomer 2 in repeated unit: 98\n"
     ]
    }
   ],
   "source": [
    "#now for (ii) 200 repeat units. \n",
    "isomer_one_, isomer_two_, isomer_picked_for_repeated_unit_ = 0, 0, 0\n",
    "\n",
    "isomer_picked_for_repeated_unit_ = 0 #this is the number of repeated units from the bbl isomer\n",
    "while isomer_picked_for_repeated_unit_ < 200:#for 200 repeated units which will in a while loop to go on for 200 repetetions \n",
    "    isomer_randomly_picked_ = random.randrange( 2 )#there are only 2 isomers (isomer_one and isomer_two)\n",
    "    if isomer_randomly_picked_ == 0:\n",
    "        isomer_one_ += 1\n",
    "    else:#else statement to pick the other isomer, 2:\n",
    "        isomer_two_ += 1\n",
    "    isomer_picked_for_repeated_unit_ += 1\n",
    "\n",
    "\n",
    "\n",
    "    \n",
    "print(\"Number of isomer 1 in repeated unit:\",isomer_one_)#this is how many isomer one are in the repeated unit (polymer)\n",
    "print(\"Number of isomer 2 in repeated unit:\",isomer_two_)#this is how many isomer two are in the repeated unit(polymer)\n",
    "\n",
    "\n"
   ]
  },
  {
   "cell_type": "code",
   "execution_count": null,
   "id": "506fb4cc-7503-4a0b-964c-7d42756ee6d6",
   "metadata": {},
   "outputs": [],
   "source": []
  },
  {
   "cell_type": "code",
   "execution_count": 6,
   "id": "057e1512-d6f9-4bf2-86e8-3300790aba11",
   "metadata": {},
   "outputs": [
    {
     "data": {
      "image/png": "[encoded data removed]",
      "text/plain": [
       "<Figure size 432x288 with 1 Axes>"
      ]
     },
     "metadata": {
      "needs_background": "light"
     },
     "output_type": "display_data"
    }
   ],
   "source": [
    "#i) 50 repeated units visualization\n",
    "x = np.array([29,23,30]) #a few outputs that I ran on the code to get some random values\n",
    "y = np.array([21, 27,20])# a few outputs that I ran on the code to get some random values\n",
    "plt.title('Visualization of 50 Repeated Units')\n",
    "plt.xlabel('isomer1')\n",
    "plt.ylabel('isomer2')\n",
    "plt.plot(x,'-.', y, '-.')\n",
    "plt.show()\n"
   ]
  },
  {
   "cell_type": "code",
   "execution_count": 7,
   "id": "1b4cf23b-3d09-4567-8e66-cc6ad1ebe458",
   "metadata": {},
   "outputs": [
    {
     "data": {
      "image/png": "[encoded data removed]",
      "text/plain": [
       "<Figure size 432x288 with 1 Axes>"
      ]
     },
     "metadata": {
      "needs_background": "light"
     },
     "output_type": "display_data"
    }
   ],
   "source": [
    "#ii) visualization of 200 repeated units\n",
    "x_ = np.array([102,96,89]) #a few outputs that I ran on the code to get some random values\n",
    "y_ = np.array([98, 104,111])# a few outputs that I ran on the code to get some random values\n",
    "plt.title('Visualization of 200 Repeated Units')\n",
    "plt.xlabel('isomer1')\n",
    "plt.ylabel('isomer2')\n",
    "plt.plot(x_,'-.', y_, '-.')\n",
    "plt.show()\n"
   ]
  },
  {
   "cell_type": "code",
   "execution_count": 8,
   "id": "70814809-fe20-45e9-a943-f1a089712489",
   "metadata": {},
   "outputs": [
    {
     "data": {
      "text/plain": [
       "Wavenumber (cm-1)              1502.107015\n",
       "Raman intensity of isomer 1     938.912763\n",
       "Raman intensity of isomer 2    1135.011057\n",
       "dtype: float64"
      ]
     },
     "execution_count": 8,
     "metadata": {},
     "output_type": "execute_result"
    }
   ],
   "source": [
    "#3b)\n",
    "# I have already downloaded the data, now I need to take the average of the 200 repeated units Raman spectra\n",
    "# to do this I need to implement an equation\n",
    "\n",
    "df1=df.mean()\n",
    "df1\n",
    "#this function is calling the mean of the repeated units, which is this \n"
   ]
  },
  {
   "cell_type": "code",
   "execution_count": null,
   "id": "1af544dc-ab66-4a67-bfdf-229dcaac16d0",
   "metadata": {},
   "outputs": [],
   "source": []
  },
  {
   "cell_type": "code",
   "execution_count": null,
   "id": "66482c02-02e7-44d8-bff0-0001d15103d2",
   "metadata": {},
   "outputs": [],
   "source": []
  },
  {
   "cell_type": "code",
   "execution_count": null,
   "id": "3303235d-cf50-401f-9f4e-3c4f37402bcc",
   "metadata": {},
   "outputs": [],
   "source": []
  },
  {
   "cell_type": "code",
   "execution_count": null,
   "id": "312ad629-1408-4837-8920-892d4e0dfe8e",
   "metadata": {},
   "outputs": [],
   "source": []
  },
  {
   "cell_type": "code",
   "execution_count": null,
   "id": "97653f08-1afe-404c-bc3e-baf5c1a165d1",
   "metadata": {},
   "outputs": [],
   "source": []
  },
  {
   "cell_type": "code",
   "execution_count": null,
   "id": "cf4eb11e-2520-405d-b156-769ed2e6f86e",
   "metadata": {},
   "outputs": [],
   "source": []
  },
  {
   "cell_type": "code",
   "execution_count": null,
   "id": "daaa444e-5236-45dc-b60b-90ed6b65b750",
   "metadata": {},
   "outputs": [],
   "source": []
  },
  {
   "cell_type": "code",
   "execution_count": null,
   "id": "36fb1605-059c-49f3-b215-139b9768c494",
   "metadata": {},
   "outputs": [],
   "source": []
  },
  {
   "cell_type": "code",
   "execution_count": null,
   "id": "02ed1743-686b-46c1-a221-5e602b44a0e1",
   "metadata": {},
   "outputs": [],
   "source": []
  }
 ],
 "metadata": {
  "kernelspec": {
   "display_name": "Python 3 (ipykernel)",
   "language": "python",
   "name": "python3"
  },
  "language_info": {
   "codemirror_mode": {
    "name": "ipython",
    "version": 3
   },
   "file_extension": ".py",
   "mimetype": "text/x-python",
   "name": "python",
   "nbconvert_exporter": "python",
   "pygments_lexer": "ipython3",
   "version": "3.9.7"
  }
 },
 "nbformat": 4,
 "nbformat_minor": 5
}
